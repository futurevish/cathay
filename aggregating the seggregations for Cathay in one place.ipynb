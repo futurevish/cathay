{
 "cells": [
  {
   "cell_type": "code",
   "execution_count": 3,
   "id": "d1d48a20",
   "metadata": {},
   "outputs": [
    {
     "name": "stdout",
     "output_type": "stream",
     "text": [
      "['agg', 'df', 'Age Bracket']\n",
      "{'Age Bracket'} opt\n",
      "Processed agg_df_Age Bracket.csv\n",
      "['agg', 'df', 'Class']\n",
      "{'Class'} opt\n",
      "Processed agg_df_Class.csv\n",
      "['agg', 'df', 'FFP (Tier Breakdown)']\n",
      "{'FFP (Tier Breakdown)'} opt\n",
      "Processed agg_df_FFP (Tier Breakdown).csv\n",
      "['agg', 'df', 'Gender']\n",
      "{'Gender'} opt\n",
      "Processed agg_df_Gender.csv\n",
      "['agg', 'df', 'Occupation Group']\n",
      "{'Occupation Group'} opt\n",
      "Processed agg_df_Occupation Group.csv\n",
      "['agg', 'df', 'Purpose']\n",
      "{'Purpose'} opt\n",
      "Processed agg_df_Purpose.csv\n",
      "['agg', 'df', 'Salary Group']\n",
      "{'Salary Group'} opt\n",
      "Processed agg_df_Salary Group.csv\n",
      "['agg', 'df', 'Travel N12M']\n",
      "{'Travel N12M'} opt\n",
      "Processed agg_df_Travel N12M.csv\n",
      "['agg', 'df', 'Travelled P12M']\n",
      "{'Travelled P12M'} opt\n",
      "Processed agg_df_Travelled P12M.csv\n",
      "\n",
      "Aggregated file saved to: LA\\aggregated_data_combined.csv\n",
      "\n",
      "Aggregation completed successfully!\n",
      "Total rows in aggregated file: 81\n"
     ]
    }
   ],
   "source": [
    "from pathlib import Path\n",
    "import pandas as pd\n",
    "\n",
    "def aggregate_files(root_folder, target_folder=\"LA\", file_prefix=\"agg_df\"):\n",
    "    \"\"\"\n",
    "    Aggregates CSV files from the Shenzen folder.\n",
    "    \"\"\"\n",
    "    root_path = Path(root_folder)\n",
    "    target_path = root_path / target_folder\n",
    "    visited = set()\n",
    "    dfs = []\n",
    "    \n",
    "    if not target_path.exists():\n",
    "        print(f\"Target folder {target_folder} not found\")\n",
    "        return None\n",
    "        \n",
    "    # Process all CSV files in the target folder\n",
    "    for file_path in target_path.glob(\"*.csv\"):\n",
    "        if not file_path in visited:\n",
    "            \n",
    "            \n",
    "                visited.add(file_path)\n",
    "                print(file_path.stem.split('_'))\n",
    "                segmentation = file_path.stem.split('_')[2]\n",
    "\n",
    "                df = pd.read_csv(file_path)\n",
    "                option = set(df.columns) - set(['SourceStimuliName', 'Engagement', 'Emotion',\n",
    "                       'CognitiveLoad', 'Desire', 'Memorisation', 'Impact'])\n",
    "                print(option, 'opt')\n",
    "\n",
    "                option = list(option)\n",
    "                df = df[['SourceStimuliName', 'Engagement', 'Emotion',\n",
    "                       'CognitiveLoad', 'Desire', 'Memorisation', 'Impact', option[0]]]\n",
    "                df['segmentation_type'] = segmentation\n",
    "                df.groupby(['SourceStimuliName','segmentation_type',option[0]]).mean()\n",
    "                dfs.append(df)\n",
    "                print(f\"Processed {file_path.name}\")\n",
    "                \n",
    "            \n",
    "            #    print(f\"Error processing {file_path.name}: {str(e)}\")\n",
    "                \n",
    "    if not dfs:\n",
    "        print(\"No files were processed\")\n",
    "        return None\n",
    "        \n",
    "    # Combine all dataframes\n",
    "    #print(dfs)\n",
    "    final_df = pd.concat(dfs, ignore_index=True)\n",
    "    \n",
    "    # Save the aggregated dataframe\n",
    "    output_path = target_path / \"aggregated_data_combined.csv\"\n",
    "    final_df.to_csv(output_path, index=False)\n",
    "    print(f\"\\nAggregated file saved to: {output_path}\")\n",
    "    \n",
    "    return final_df\n",
    "\n",
    "# Run the aggregation\n",
    "root_folder = \"./\"\n",
    "result = aggregate_files(root_folder)\n",
    "if result is not None:\n",
    "    print(\"\\nAggregation completed successfully!\")\n",
    "    print(f\"Total rows in aggregated file: {len(result)}\")"
   ]
  },
  {
   "cell_type": "code",
   "execution_count": 69,
   "id": "96adb8ce",
   "metadata": {},
   "outputs": [
    {
     "ename": "NameError",
     "evalue": "name 'dfs' is not defined",
     "output_type": "error",
     "traceback": [
      "\u001b[1;31m---------------------------------------------------------------------------\u001b[0m",
      "\u001b[1;31mNameError\u001b[0m                                 Traceback (most recent call last)",
      "Cell \u001b[1;32mIn[69], line 1\u001b[0m\n\u001b[1;32m----> 1\u001b[0m dfs\n",
      "\u001b[1;31mNameError\u001b[0m: name 'dfs' is not defined"
     ]
    }
   ],
   "source": [
    "dfs"
   ]
  },
  {
   "cell_type": "code",
   "execution_count": null,
   "id": "69ad4fac",
   "metadata": {},
   "outputs": [],
   "source": []
  }
 ],
 "metadata": {
  "kernelspec": {
   "display_name": "Python 3 (ipykernel)",
   "language": "python",
   "name": "python3"
  },
  "language_info": {
   "codemirror_mode": {
    "name": "ipython",
    "version": 3
   },
   "file_extension": ".py",
   "mimetype": "text/x-python",
   "name": "python",
   "nbconvert_exporter": "python",
   "pygments_lexer": "ipython3",
   "version": "3.11.5"
  }
 },
 "nbformat": 4,
 "nbformat_minor": 5
}
